{
 "cells": [
  {
   "cell_type": "code",
   "execution_count": null,
   "metadata": {
    "id": "download_model"
   },
   "outputs": [],
   "source": [
    "# Download model (replace with actual link)\n",
    "!wget '' -O Name.safetensors"
   ]
  },
  {
   "cell_type": "code",
   "execution_count": null,
   "metadata": {
    "id": "setup_fooocus"
   },
   "outputs": [],
   "source": [
    "# Install dependencies\n",
    "!apt-get -y install git\n",
    "!pip install pygit2==1.15.1\n",
    "\n",
    "# Clone Fooocus\n",
    "!git clone https://github.com/dhaneshsaini/Fooocus.git /content/Fooocus\n",
    "%cd /content/Fooocus\n",
    "\n",
    "# Run Fooocus\n",
    "!python entry_with_update.py --share --always-high-vram --preset pixel"
   ]
  }
 ],
 "metadata": {
  "accelerator": "GPU",
  "colab": {
   "gpuType": "T4",
   "provenance": []
  },
  "kernelspec": {
   "display_name": "Python 3",
   "name": "python3"
  },
  "language_info": {
   "name": "python"
  }
 },
 "nbformat": 4,
 "nbformat_minor": 0
}
